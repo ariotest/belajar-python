{
 "cells": [
  {
   "cell_type": "markdown",
   "id": "9ac4faad",
   "metadata": {},
   "source": [
    "ini markdown/teks => untuk deskripsi dari kodingan/dokumentasi"
   ]
  },
  {
   "cell_type": "code",
   "execution_count": null,
   "id": "079a1473",
   "metadata": {},
   "outputs": [],
   "source": [
    "print(\"Hello World!\")"
   ]
  },
  {
   "cell_type": "code",
   "execution_count": null,
   "id": "afd7eb21",
   "metadata": {},
   "outputs": [],
   "source": [
    "print(\"Halo kak cici\")"
   ]
  },
  {
   "cell_type": "code",
   "execution_count": null,
   "id": "a18754b8",
   "metadata": {},
   "outputs": [],
   "source": [
    "for i in range(10):\n",
    "    print(\"hello\")"
   ]
  },
  {
   "cell_type": "code",
   "execution_count": null,
   "id": "e139c3d8",
   "metadata": {},
   "outputs": [],
   "source": [
    "print(\"Hello World!\")"
   ]
  }
 ],
 "metadata": {
  "kernelspec": {
   "display_name": "base",
   "language": "python",
   "name": "python3"
  },
  "language_info": {
   "codemirror_mode": {
    "name": "ipython",
    "version": 3
   },
   "file_extension": ".py",
   "mimetype": "text/x-python",
   "name": "python",
   "nbconvert_exporter": "python",
   "pygments_lexer": "ipython3",
   "version": "3.12.7"
  }
 },
 "nbformat": 4,
 "nbformat_minor": 5
}
